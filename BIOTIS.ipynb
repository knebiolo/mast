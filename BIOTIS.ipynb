{
 "cells": [
  {
   "cell_type": "markdown",
   "id": "21a9943f-d019-4503-8991-6ecfb621d175",
   "metadata": {},
   "source": [
    "# BIOTAS Project Notebook\n",
    "\n",
    "This BIOTAS project notebook takes the end user through the data import and false positive reduction phases of a telemetry project.  "
   ]
  },
  {
   "cell_type": "markdown",
   "id": "af395fd3-b68a-41c8-97eb-159b53fc7726",
   "metadata": {},
   "source": [
    "# Project Set Up\n",
    "## Import Modules"
   ]
  },
  {
   "cell_type": "code",
   "execution_count": null,
   "id": "787d713f-07a2-4421-b793-e9a5467c913e",
   "metadata": {},
   "outputs": [],
   "source": [
    "import os\n",
    "import sys\n",
    "import sqlite3\n",
    "import pandas as pd"
   ]
  },
  {
   "cell_type": "markdown",
   "id": "1fbaa73b-9747-40b3-928f-ee514a920b1b",
   "metadata": {},
   "source": [
    "Identify the BIOTAS directory and import BIOTAS"
   ]
  },
  {
   "cell_type": "code",
   "execution_count": null,
   "id": "7c21173f-68b7-4a1a-bf9e-6ba5d6e04430",
   "metadata": {},
   "outputs": [],
   "source": [
    "sys.path.append(r\"C:\\Users\\knebiolo\\OneDrive - Kleinschmidt Associates, Inc\\Software\\biotas\")\n",
    "import biotas"
   ]
  },
  {
   "cell_type": "markdown",
   "id": "2aa4d28f-82cd-4baa-b5f1-28b15f75a4f1",
   "metadata": {},
   "source": [
    "## Set up Workspaces\n",
    "First, identify the project directory and database name"
   ]
  },
  {
   "cell_type": "code",
   "execution_count": null,
   "id": "97c14104-1254-4b25-9947-ed8c9e998908",
   "metadata": {},
   "outputs": [],
   "source": [
    "proj_dir = r\"C:\\Users\\knebiolo\\Desktop\\Nuyakuk BIOTAS\"\n",
    "db_name = 'nuya_test.db'"
   ]
  },
  {
   "cell_type": "markdown",
   "id": "bd9c18a1-2820-4b7e-bdfa-7e1ee9ffaa68",
   "metadata": {},
   "source": [
    "Next, connect to some important workspaces that we will use later"
   ]
  },
  {
   "cell_type": "code",
   "execution_count": null,
   "id": "abac893d-d4a1-4d0b-98d3-01b8b1358dea",
   "metadata": {},
   "outputs": [],
   "source": [
    "db_dir = os.path.join(proj_dir,'Data',db_name)\n",
    "scratch_ws = os.path.join(proj_dir,'Output','Scratch')\n",
    "input_ws = os.path.join(proj_dir,'Data')\n",
    "output_ws = os.path.join(proj_dir,'Output')\n",
    "figure_ws = os.path.join(proj_dir,'Figures')\n",
    "training_ws = os.path.join(proj_dir,'Data','Training_Files')"
   ]
  },
  {
   "cell_type": "markdown",
   "id": "fac9b5b6-aefb-49ef-8817-c95a8f2366b7",
   "metadata": {},
   "source": [
    "## Create BIOTAS Project\n",
    "\n",
    "**If you are connecting to a previous project, do not run the next cell.**"
   ]
  },
  {
   "cell_type": "code",
   "execution_count": null,
   "id": "cb2b5be2-a1a8-46ae-a800-ea446f28efca",
   "metadata": {},
   "outputs": [],
   "source": [
    "biotas.createTrainDB(proj_dir, db_name)"
   ]
  },
  {
   "cell_type": "markdown",
   "id": "f98fae03-5c3e-4f74-8f3e-e7c36f6cedc5",
   "metadata": {
    "tags": []
   },
   "source": [
    "## Finish Setting Up your BIOTAS Project\n",
    "\n",
    "Identify import parameters.  **If you have already created a BIOTAS project, do not run the next two cells**"
   ]
  },
  {
   "cell_type": "code",
   "execution_count": null,
   "id": "12240920-f818-4df3-a4f7-e78500eb2cf7",
   "metadata": {},
   "outputs": [],
   "source": [
    "# number of detections (+/-) in the PDH\n",
    "det = 5\n",
    "\n",
    "# duration (minutes) used in noise ratio calculation \n",
    "duration = 1\n",
    "\n",
    "biotas.setAlgorithmParameters(det,duration,db_dir)"
   ]
  },
  {
   "cell_type": "markdown",
   "id": "b83b2a65-7689-4960-bf0d-4f94823c0cd5",
   "metadata": {},
   "source": [
    "Import base data"
   ]
  },
  {
   "cell_type": "code",
   "execution_count": null,
   "id": "8b3af483-9ea9-4486-a842-2aa705ce892a",
   "metadata": {},
   "outputs": [],
   "source": [
    "# import data to Python\n",
    "tblMasterTag = pd.read_csv(os.path.join(input_ws,'tblMasterTag.csv'))\n",
    "tblMasterReceiver = pd.read_csv(os.path.join(input_ws,'tblMasterReceiver.csv'))\n",
    "tblNodes = pd.read_csv(os.path.join(input_ws,'tblNodes.csv'))\n",
    "\n",
    "# write data to SQLite\n",
    "biotas.studyDataImport(tblMasterTag,db_dir,'tblMasterTag')\n",
    "biotas.studyDataImport(tblMasterReceiver,db_dir,'tblMasterReceiver')\n",
    "biotas.studyDataImport(tblNodes,db_dir,'tblNodes')\n",
    "\n",
    "# clean up \n",
    "del tblMasterTag, tblMasterReceiver, tblNodes"
   ]
  },
  {
   "cell_type": "markdown",
   "id": "af97c601-9e6b-4261-93f8-c6fb76c04c9e",
   "metadata": {},
   "source": [
    "# Import Raw Telemetry Data and Create Training Data\n",
    "\n",
    "The following cells import and train raw telemetry data, one receiver at a time.  Re-run this section of cells for each receiver in your study.  \n",
    "\n",
    "The first thing we need to do is identify the site name exactly as it appears in tblMasterReceiver and the receiver type."
   ]
  },
  {
   "cell_type": "code",
   "execution_count": null,
   "id": "32846764-71c7-4df5-977a-d7a2c3363952",
   "metadata": {},
   "outputs": [],
   "source": [
    "site = 10\n",
    "recType = 'orion'"
   ]
  },
  {
   "cell_type": "markdown",
   "id": "befb9f67-1192-4e0b-be8d-690b2e4a8585",
   "metadata": {},
   "source": [
    "Then, create an antenna to receiever dictionary.  Radio telemety receivers all for more than one antenna on different channels.  This dictionary identies the channel number associated with each site."
   ]
  },
  {
   "cell_type": "code",
   "execution_count": null,
   "id": "95816d50-50ee-48bb-9b26-ea402d1744a2",
   "metadata": {},
   "outputs": [],
   "source": [
    "ant_to_rec_dict = {'1':site}"
   ]
  },
  {
   "cell_type": "markdown",
   "id": "52ef268d-6004-462b-ae46-d1760ff573b7",
   "metadata": {},
   "source": [
    "Next, place raw telemetry data into the 'Training Files' folder in your BIOTAS project directory and run the following cell.  Note arguments for scanTime and channels.  For Lotek receivers we can leave these as 1, their default values.  However, scanTime and channels must be entered for Orion receivers if your study value differed from the values used below.  Scan time refers to how long the receiver will monitor a channel before switching to another one, while channels indicates the number of channels or bands this receiver is switching over."
   ]
  },
  {
   "cell_type": "code",
   "execution_count": null,
   "id": "f1b4c21a-4dad-4f84-8d86-70d9bb1f021f",
   "metadata": {},
   "outputs": [],
   "source": [
    "biotas.telemDataImport(site,\n",
    "                       recType,\n",
    "                       training_ws,\n",
    "                       db_dir,\n",
    "                       scanTime = 1,\n",
    "                       channels = 1,\n",
    "                       ant_to_rec_dict = ant_to_rec_dict)"
   ]
  },
  {
   "cell_type": "markdown",
   "id": "6f223a4f-8200-4a7b-9d18-78def2dcfb24",
   "metadata": {},
   "source": [
    "The following cell creates a list of unique individuals to iterate over, creates training data objects for each individual, trains the algorithm, and updates the project database."
   ]
  },
  {
   "cell_type": "code",
   "execution_count": null,
   "id": "8ae28eb2-eebf-46f9-af11-51c6841a0abe",
   "metadata": {},
   "outputs": [],
   "source": [
    "for i in ant_to_rec_dict:\n",
    "    conn = sqlite3.connect(db_dir)\n",
    "    c = conn.cursor()\n",
    "    sql ='''SELECT tblRaw.FreqCode FROM tblRaw\n",
    "            LEFT JOIN tblMasterTag ON tblRaw.FreqCode = tblMasterTag.FreqCode\n",
    "            WHERE recID == '%s'\n",
    "            AND TagType IS NOT 'Beacon'\n",
    "            AND TagType IS NOT 'Test';'''%(ant_to_rec_dict[i])\n",
    "    histories = pd.read_sql_query(sql,con = conn).FreqCode.unique()\n",
    "    c.close()\n",
    "\n",
    "    print (\"There are %s fish to iterate through\" %(len(histories)))\n",
    "    print (\"Creating training objects for every fish at site %s\"%(site))\n",
    "    \n",
    "    # create a training data object for each fish and train naive Bayes.\n",
    "    for j in histories:\n",
    "        train_dat = biotas.training_data(j,\n",
    "                                         ant_to_rec_dict[i],\n",
    "                                         db_dir,\n",
    "                                         scratch_ws)\n",
    "        biotas.calc_train_params_map(train_dat)\n",
    "    print (\"Telemetry Parameters Quantified, appending data to project database\")\n",
    "    \n",
    "    # append data and summarize\n",
    "    biotas.trainDatAppend(scratch_ws,db_dir)\n",
    "    train_stats = biotas.training_results(recType,\n",
    "                                          db_dir,\n",
    "                                          figure_ws,\n",
    "                                          ant_to_rec_dict[i])\n",
    "    # visualize results\n",
    "    train_stats.train_stats()"
   ]
  },
  {
   "cell_type": "markdown",
   "id": "4948e570-12b1-4184-9ed2-0d656abf2795",
   "metadata": {},
   "source": [
    "# Classify \n",
    "\n",
    "The following cells classify a single receiver.  These cells will need to be repeated for each site in your study.\n",
    "\n",
    "First, identify some important parameters, including: the site, receiver type (recType) and list of receivers to draw training data from for the the final classification.   "
   ]
  },
  {
   "cell_type": "code",
   "execution_count": null,
   "id": "d402aef8-9e89-40b7-8193-246b5fc7ff4f",
   "metadata": {},
   "outputs": [],
   "source": [
    "site = 'T5'\n",
    "recType = 'orion'\n",
    "rec_list = ['T1','T2','T3','T4','T5']"
   ]
  },
  {
   "cell_type": "markdown",
   "id": "d0a93c7a-e693-4238-a373-1e4c263c540b",
   "metadata": {},
   "source": [
    "The next cell creates the A-la carte likelihood model.  The end user will construct a classifer by listing the BIOTAS features to include.  Choose from the following list:\n",
    "\n",
    "conRecLength, consDet, hitRatio, noiseRatio, seriesHit, power, lagDiff"
   ]
  },
  {
   "cell_type": "code",
   "execution_count": null,
   "id": "2b025548-1861-40d6-bd63-8c372943df21",
   "metadata": {},
   "outputs": [],
   "source": [
    "fields =  = ['conRecLength','hitRatio','power','lagDiff']  "
   ]
  },
  {
   "cell_type": "markdown",
   "id": "9d4fe53a-2747-4933-84e5-87337cd63cfc",
   "metadata": {},
   "source": [
    "Next, indicate whether or not you wish to use an informed prior."
   ]
  },
  {
   "cell_type": "code",
   "execution_count": null,
   "id": "a6b80bc6-70eb-4c4c-81fa-ef50a9dc4c8c",
   "metadata": {},
   "outputs": [],
   "source": [
    "prior = True"
   ]
  },
  {
   "cell_type": "markdown",
   "id": "5af558f9-9bc4-45b5-abd6-26642a811d58",
   "metadata": {},
   "source": [
    "The next cell creates a list of unique ID's to iterate through at this site"
   ]
  },
  {
   "cell_type": "code",
   "execution_count": null,
   "id": "b9d5c503-4378-4e87-b297-c0a1f7c4c80d",
   "metadata": {},
   "outputs": [],
   "source": [
    "conn = sqlite3.connect(projectDB)\n",
    "c = conn.cursor()\n",
    "sql = \"SELECT FreqCode FROM tblRaw WHERE recID == '%s';\"%(site)\n",
    "histories = pd.read_sql(sql,con = conn)\n",
    "tags = pd.read_sql('''SELECT FreqCode, TagType \n",
    "                   FROM tblMasterTag \n",
    "                   WHERE TagType == 'Study' ''', con = conn)\n",
    "histories = histories.merge(right = tags, \n",
    "                            how = 'left',\n",
    "                            left_on = 'FreqCode', \n",
    "                            right_on = 'FreqCode')\n",
    "histories = histories[histories.TagType == 'Study'].FreqCode.unique()\n",
    "c.close()\n",
    "print (\"There are %s fish to iterate through at site %s\" %(len(histories),site))"
   ]
  },
  {
   "cell_type": "markdown",
   "id": "5c94878e-e595-4b85-9b05-62d4c5ff7b80",
   "metadata": {},
   "source": [
    "Then, we create a training dataset for this round of classification"
   ]
  },
  {
   "cell_type": "code",
   "execution_count": null,
   "id": "6bab8460-469c-4580-81a2-207bb6c692ac",
   "metadata": {},
   "outputs": [],
   "source": [
    "train = biotas.create_training_data(site,\n",
    "                                    projectDB,\n",
    "                                    rec_list)"
   ]
  },
  {
   "cell_type": "markdown",
   "id": "9dda3d45-f925-4049-98db-e91596a2e986",
   "metadata": {},
   "source": [
    "Then we perform the initial classfication of each unique individual and add data to the project database."
   ]
  },
  {
   "cell_type": "code",
   "execution_count": null,
   "id": "cceb466f-f8f0-4663-baf9-2092eae3dabd",
   "metadata": {},
   "outputs": [],
   "source": [
    "for i in histories:\n",
    "    class_dat = biotas.classify_data(i,\n",
    "                                     site,\n",
    "                                     fields,\n",
    "                                     projectDB,\n",
    "                                     scratch_ws,\n",
    "                                     training_data=train,\n",
    "                                     informed_prior = prior)\n",
    "    biotas.calc_class_params_map(class_dat)   \n",
    "print (\"Detections classified!\")\n",
    "biotas.classDatAppend(site, scratch_ws, projectDB)"
   ]
  },
  {
   "cell_type": "markdown",
   "id": "30192c26-0833-4d38-9abf-735531f35508",
   "metadata": {},
   "source": [
    "Visualize results of the initial classification. "
   ]
  },
  {
   "cell_type": "code",
   "execution_count": null,
   "id": "cefff4f2-e0db-4594-8e41-c232534e4755",
   "metadata": {},
   "outputs": [],
   "source": [
    "class_stats = biotas.classification_results(recType,\n",
    "                                            projectDB,\n",
    "                                            figure_ws,\n",
    "                                            rec_list=[site])\n",
    "class_stats.classify_stats()"
   ]
  },
  {
   "cell_type": "markdown",
   "id": "c38e33c8-062e-40ce-ad78-2f42ad810119",
   "metadata": {},
   "source": [
    "## Reclassification\n",
    "\n",
    "If the results of the initial classification are not satisfactory.  The following cells perform a reclassification routine.  The end user first indicates which iteration number they are on.  **Note the end user always starts at 2**"
   ]
  },
  {
   "cell_type": "code",
   "execution_count": null,
   "id": "e19abcb6-488d-43b1-82bc-8c36e4479d5f",
   "metadata": {},
   "outputs": [],
   "source": [
    "class_iter = 2"
   ]
  },
  {
   "cell_type": "markdown",
   "id": "178cc8e8-3bbb-453d-a77e-6759c167739f",
   "metadata": {},
   "source": [
    "Next, create a training dataset for this round of classification"
   ]
  },
  {
   "cell_type": "code",
   "execution_count": null,
   "id": "0fe8331e-6fed-4e6a-94dd-a6771f6edd6c",
   "metadata": {},
   "outputs": [],
   "source": [
    "train = biotas.create_training_data(site,\n",
    "                                    projectDB,\n",
    "                                    reclass_iter,\n",
    "                                    rec_list)"
   ]
  },
  {
   "cell_type": "markdown",
   "id": "4ceef42e-780b-4397-90fa-4c2d8a71d3fa",
   "metadata": {},
   "source": [
    "The next cell iterates over each indidivual at this site and re-classifies it"
   ]
  },
  {
   "cell_type": "code",
   "execution_count": null,
   "id": "d56fdbf0-83fe-4957-8b02-1becda73b7d6",
   "metadata": {},
   "outputs": [],
   "source": [
    "for i in histories:\n",
    "    class_dat = biotas.classify_data(i,\n",
    "                                    site,\n",
    "                                    fields,\n",
    "                                    os.path.join(inputWS,dbName),\n",
    "                                    outputScratch,\n",
    "                                    train,\n",
    "                                    informed_prior = prior,\n",
    "                                    reclass_iter=class_iter)\n",
    "    biotas.classify(class_dat)\n",
    "print (\"Detections classified!\") \n",
    "biotas.classDatAppend(site,outputScratch,projectDB,reclass_iter = class_iter)"
   ]
  },
  {
   "cell_type": "markdown",
   "id": "a5190d83-9d55-433f-819c-a7778987c221",
   "metadata": {},
   "source": [
    "Now, visualize the results of the re-classifcation."
   ]
  },
  {
   "cell_type": "code",
   "execution_count": null,
   "id": "a3611374-448c-41c4-a76e-2a4a9ac56517",
   "metadata": {},
   "outputs": [],
   "source": [
    "class_stats = biotas.classification_results(recType,\n",
    "                                            os.path.join(inputWS,dbName),\n",
    "                                            figure_ws,\n",
    "                                            rec_list=[site])\n",
    "class_stats.classify_stats()"
   ]
  }
 ],
 "metadata": {
  "kernelspec": {
   "display_name": "Python 3 (ipykernel)",
   "language": "python",
   "name": "python3"
  },
  "language_info": {
   "codemirror_mode": {
    "name": "ipython",
    "version": 3
   },
   "file_extension": ".py",
   "mimetype": "text/x-python",
   "name": "python",
   "nbconvert_exporter": "python",
   "pygments_lexer": "ipython3",
   "version": "3.9.13"
  },
  "toc-autonumbering": true
 },
 "nbformat": 4,
 "nbformat_minor": 5
}
